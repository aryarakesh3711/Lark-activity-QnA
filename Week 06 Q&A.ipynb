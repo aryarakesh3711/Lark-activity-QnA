{
 "cells": [
  {
   "cell_type": "code",
   "execution_count": 1,
   "id": "85e8d903",
   "metadata": {},
   "outputs": [],
   "source": [
    "import numpy as np\n",
    "import pandas as pd\n",
    "import matplotlib.pyplot as plt\n",
    "import seaborn as sns"
   ]
  },
  {
   "cell_type": "code",
   "execution_count": 2,
   "id": "ee16f762",
   "metadata": {},
   "outputs": [],
   "source": [
    "df = pd.read_excel(\"D:\\Data Science\\Dataset_w6.xlsx\")"
   ]
  },
  {
   "cell_type": "code",
   "execution_count": 3,
   "id": "ec6acb55",
   "metadata": {
    "scrolled": true
   },
   "outputs": [
    {
     "data": {
      "text/html": [
       "<div>\n",
       "<style scoped>\n",
       "    .dataframe tbody tr th:only-of-type {\n",
       "        vertical-align: middle;\n",
       "    }\n",
       "\n",
       "    .dataframe tbody tr th {\n",
       "        vertical-align: top;\n",
       "    }\n",
       "\n",
       "    .dataframe thead th {\n",
       "        text-align: right;\n",
       "    }\n",
       "</style>\n",
       "<table border=\"1\" class=\"dataframe\">\n",
       "  <thead>\n",
       "    <tr style=\"text-align: right;\">\n",
       "      <th></th>\n",
       "      <th>country</th>\n",
       "      <th>Region</th>\n",
       "      <th>Surface area (km2)</th>\n",
       "      <th>Population in thousands (2017)</th>\n",
       "      <th>GDP per capita (current US$)</th>\n",
       "      <th>Agricultural production index</th>\n",
       "      <th>International trade: Imports (million US$)</th>\n",
       "    </tr>\n",
       "  </thead>\n",
       "  <tbody>\n",
       "    <tr>\n",
       "      <th>0</th>\n",
       "      <td>Afghanistan</td>\n",
       "      <td>SouthernAsia</td>\n",
       "      <td>652864.0</td>\n",
       "      <td>35530.0</td>\n",
       "      <td>623.2</td>\n",
       "      <td>125.0</td>\n",
       "      <td>3568.0</td>\n",
       "    </tr>\n",
       "    <tr>\n",
       "      <th>1</th>\n",
       "      <td>Albania</td>\n",
       "      <td>SouthernEurope</td>\n",
       "      <td>28748.0</td>\n",
       "      <td>2930.0</td>\n",
       "      <td>3984.2</td>\n",
       "      <td>134.0</td>\n",
       "      <td>4669.0</td>\n",
       "    </tr>\n",
       "    <tr>\n",
       "      <th>2</th>\n",
       "      <td>Algeria</td>\n",
       "      <td>NorthernAfrica</td>\n",
       "      <td>2381741.0</td>\n",
       "      <td>41318.0</td>\n",
       "      <td>4154.1</td>\n",
       "      <td>160.0</td>\n",
       "      <td>47091.0</td>\n",
       "    </tr>\n",
       "    <tr>\n",
       "      <th>3</th>\n",
       "      <td>Angola</td>\n",
       "      <td>MiddleAfrica</td>\n",
       "      <td>1246700.0</td>\n",
       "      <td>29784.0</td>\n",
       "      <td>4714.1</td>\n",
       "      <td>175.0</td>\n",
       "      <td>8790.0</td>\n",
       "    </tr>\n",
       "    <tr>\n",
       "      <th>4</th>\n",
       "      <td>Antigua and Barbuda</td>\n",
       "      <td>Caribbean</td>\n",
       "      <td>442.0</td>\n",
       "      <td>102.0</td>\n",
       "      <td>14764.5</td>\n",
       "      <td>88.0</td>\n",
       "      <td>491.0</td>\n",
       "    </tr>\n",
       "  </tbody>\n",
       "</table>\n",
       "</div>"
      ],
      "text/plain": [
       "               country          Region  Surface area (km2)  \\\n",
       "0          Afghanistan    SouthernAsia            652864.0   \n",
       "1              Albania  SouthernEurope             28748.0   \n",
       "2              Algeria  NorthernAfrica           2381741.0   \n",
       "3               Angola    MiddleAfrica           1246700.0   \n",
       "4  Antigua and Barbuda       Caribbean               442.0   \n",
       "\n",
       "   Population in thousands (2017)  GDP per capita (current US$)  \\\n",
       "0                         35530.0                         623.2   \n",
       "1                          2930.0                        3984.2   \n",
       "2                         41318.0                        4154.1   \n",
       "3                         29784.0                        4714.1   \n",
       "4                           102.0                       14764.5   \n",
       "\n",
       "   Agricultural production index   International trade: Imports (million US$)  \n",
       "0                           125.0                                      3568.0  \n",
       "1                           134.0                                      4669.0  \n",
       "2                           160.0                                     47091.0  \n",
       "3                           175.0                                      8790.0  \n",
       "4                            88.0                                       491.0  "
      ]
     },
     "execution_count": 3,
     "metadata": {},
     "output_type": "execute_result"
    }
   ],
   "source": [
    "df.head()"
   ]
  },
  {
   "cell_type": "markdown",
   "id": "0df7b6e7",
   "metadata": {},
   "source": [
    "# How many countries are there in the dataset"
   ]
  },
  {
   "cell_type": "code",
   "execution_count": 24,
   "id": "4a98415c",
   "metadata": {},
   "outputs": [
    {
     "data": {
      "text/plain": [
       "196"
      ]
     },
     "execution_count": 24,
     "metadata": {},
     "output_type": "execute_result"
    }
   ],
   "source": [
    "countries=df['country'].count()\n",
    "countries\n"
   ]
  },
  {
   "cell_type": "markdown",
   "id": "5f974423",
   "metadata": {},
   "source": [
    "# Data by using visualizations"
   ]
  },
  {
   "cell_type": "code",
   "execution_count": 31,
   "id": "c91c668b",
   "metadata": {},
   "outputs": [
    {
     "data": {
      "text/plain": [
       "Text(0.5, 1.0, ' Country and Population')"
      ]
     },
     "execution_count": 31,
     "metadata": {},
     "output_type": "execute_result"
    },
    {
     "data": {
      "image/png": "[encoded data removed]",
      "text/plain": [
       "<Figure size 720x720 with 1 Axes>"
      ]
     },
     "metadata": {
      "needs_background": "light"
     },
     "output_type": "display_data"
    }
   ],
   "source": [
    "plt.figure(figsize=(10,10))\n",
    "plt.xticks(rotation=45)\n",
    "sns.barplot(x=\"country\",y=\"Population in thousands (2017)\",data=df.sort_values(\"Population in thousands (2017)\").head(5))\n",
    "plt.xlabel(\"Country\")\n",
    "plt.ylabel(\"Population\")\n",
    "plt.title(\" Country and Population\")"
   ]
  },
  {
   "cell_type": "code",
   "execution_count": 46,
   "id": "4ebc7e9f",
   "metadata": {},
   "outputs": [
    {
     "data": {
      "image/png": "[encoded data removed]",
      "text/plain": [
       "<Figure size 720x720 with 1 Axes>"
      ]
     },
     "metadata": {
      "needs_background": "light"
     },
     "output_type": "display_data"
    }
   ],
   "source": [
    "plt.figure(figsize=(10,10))\n",
    "plt.xticks(rotation=45)\n",
    "sns.boxplot(x=\"country\",y=\"GDP per capita (current US$)\",data=df.sort_values(\"GDP per capita (current US$)\").head(10))\n",
    "plt.xlabel(\"Country\")\n",
    "plt.ylabel(\"GDP\")\n",
    "plt.title(\" Country and GDP per Capita\")\n",
    "plt.grid(linestyle=\"--\")"
   ]
  },
  {
   "cell_type": "markdown",
   "id": "f4dc382d",
   "metadata": {},
   "source": [
    "# countries with respect to the region are available\n"
   ]
  },
  {
   "cell_type": "code",
   "execution_count": 54,
   "id": "20a0b869",
   "metadata": {},
   "outputs": [
    {
     "data": {
      "text/html": [
       "<div>\n",
       "<style scoped>\n",
       "    .dataframe tbody tr th:only-of-type {\n",
       "        vertical-align: middle;\n",
       "    }\n",
       "\n",
       "    .dataframe tbody tr th {\n",
       "        vertical-align: top;\n",
       "    }\n",
       "\n",
       "    .dataframe thead th {\n",
       "        text-align: right;\n",
       "    }\n",
       "</style>\n",
       "<table border=\"1\" class=\"dataframe\">\n",
       "  <thead>\n",
       "    <tr style=\"text-align: right;\">\n",
       "      <th></th>\n",
       "      <th>country</th>\n",
       "    </tr>\n",
       "    <tr>\n",
       "      <th>Region</th>\n",
       "      <th></th>\n",
       "    </tr>\n",
       "  </thead>\n",
       "  <tbody>\n",
       "    <tr>\n",
       "      <th>Caribbean</th>\n",
       "      <td>16</td>\n",
       "    </tr>\n",
       "    <tr>\n",
       "      <th>CentralAmerica</th>\n",
       "      <td>8</td>\n",
       "    </tr>\n",
       "    <tr>\n",
       "      <th>CentralAsia</th>\n",
       "      <td>5</td>\n",
       "    </tr>\n",
       "    <tr>\n",
       "      <th>EasternAfrica</th>\n",
       "      <td>17</td>\n",
       "    </tr>\n",
       "    <tr>\n",
       "      <th>EasternAsia</th>\n",
       "      <td>7</td>\n",
       "    </tr>\n",
       "    <tr>\n",
       "      <th>EasternEurope</th>\n",
       "      <td>10</td>\n",
       "    </tr>\n",
       "    <tr>\n",
       "      <th>Melanesia</th>\n",
       "      <td>5</td>\n",
       "    </tr>\n",
       "    <tr>\n",
       "      <th>Micronesia</th>\n",
       "      <td>4</td>\n",
       "    </tr>\n",
       "    <tr>\n",
       "      <th>MiddleAfrica</th>\n",
       "      <td>9</td>\n",
       "    </tr>\n",
       "    <tr>\n",
       "      <th>NorthernAfrica</th>\n",
       "      <td>5</td>\n",
       "    </tr>\n",
       "    <tr>\n",
       "      <th>NorthernAmerica</th>\n",
       "      <td>4</td>\n",
       "    </tr>\n",
       "    <tr>\n",
       "      <th>NorthernEurope</th>\n",
       "      <td>10</td>\n",
       "    </tr>\n",
       "    <tr>\n",
       "      <th>Oceania</th>\n",
       "      <td>2</td>\n",
       "    </tr>\n",
       "    <tr>\n",
       "      <th>Polynesia</th>\n",
       "      <td>5</td>\n",
       "    </tr>\n",
       "    <tr>\n",
       "      <th>South-easternAsia</th>\n",
       "      <td>11</td>\n",
       "    </tr>\n",
       "    <tr>\n",
       "      <th>SouthAmerica</th>\n",
       "      <td>12</td>\n",
       "    </tr>\n",
       "    <tr>\n",
       "      <th>SouthernAfrica</th>\n",
       "      <td>5</td>\n",
       "    </tr>\n",
       "    <tr>\n",
       "      <th>SouthernAsia</th>\n",
       "      <td>9</td>\n",
       "    </tr>\n",
       "    <tr>\n",
       "      <th>SouthernEurope</th>\n",
       "      <td>12</td>\n",
       "    </tr>\n",
       "    <tr>\n",
       "      <th>WesternAfrica</th>\n",
       "      <td>15</td>\n",
       "    </tr>\n",
       "    <tr>\n",
       "      <th>WesternAsia</th>\n",
       "      <td>18</td>\n",
       "    </tr>\n",
       "    <tr>\n",
       "      <th>WesternEurope</th>\n",
       "      <td>7</td>\n",
       "    </tr>\n",
       "  </tbody>\n",
       "</table>\n",
       "</div>"
      ],
      "text/plain": [
       "                   country\n",
       "Region                    \n",
       "Caribbean               16\n",
       "CentralAmerica           8\n",
       "CentralAsia              5\n",
       "EasternAfrica           17\n",
       "EasternAsia              7\n",
       "EasternEurope           10\n",
       "Melanesia                5\n",
       "Micronesia               4\n",
       "MiddleAfrica             9\n",
       "NorthernAfrica           5\n",
       "NorthernAmerica          4\n",
       "NorthernEurope          10\n",
       "Oceania                  2\n",
       "Polynesia                5\n",
       "South-easternAsia       11\n",
       "SouthAmerica            12\n",
       "SouthernAfrica           5\n",
       "SouthernAsia             9\n",
       "SouthernEurope          12\n",
       "WesternAfrica           15\n",
       "WesternAsia             18\n",
       "WesternEurope            7"
      ]
     },
     "execution_count": 54,
     "metadata": {},
     "output_type": "execute_result"
    }
   ],
   "source": [
    "df.groupby('Region')[['country']].count()\n"
   ]
  },
  {
   "cell_type": "markdown",
   "id": "ec72e41c",
   "metadata": {},
   "source": [
    "# Region having the highest\n"
   ]
  },
  {
   "cell_type": "code",
   "execution_count": null,
   "id": "2755089c",
   "metadata": {},
   "outputs": [],
   "source": [
    "# GDP per capita (current US$)"
   ]
  },
  {
   "cell_type": "code",
   "execution_count": 62,
   "id": "f7bca345",
   "metadata": {},
   "outputs": [
    {
     "data": {
      "text/html": [
       "<div>\n",
       "<style scoped>\n",
       "    .dataframe tbody tr th:only-of-type {\n",
       "        vertical-align: middle;\n",
       "    }\n",
       "\n",
       "    .dataframe tbody tr th {\n",
       "        vertical-align: top;\n",
       "    }\n",
       "\n",
       "    .dataframe thead th {\n",
       "        text-align: right;\n",
       "    }\n",
       "</style>\n",
       "<table border=\"1\" class=\"dataframe\">\n",
       "  <thead>\n",
       "    <tr style=\"text-align: right;\">\n",
       "      <th></th>\n",
       "      <th>country</th>\n",
       "      <th>Region</th>\n",
       "      <th>Surface area (km2)</th>\n",
       "      <th>Population in thousands (2017)</th>\n",
       "      <th>GDP per capita (current US$)</th>\n",
       "      <th>Agricultural production index</th>\n",
       "      <th>International trade: Imports (million US$)</th>\n",
       "    </tr>\n",
       "  </thead>\n",
       "  <tbody>\n",
       "    <tr>\n",
       "      <th>104</th>\n",
       "      <td>Luxembourg</td>\n",
       "      <td>WesternEurope</td>\n",
       "      <td>2586.0</td>\n",
       "      <td>584.0</td>\n",
       "      <td>100160.8</td>\n",
       "      <td>98.0</td>\n",
       "      <td>19124.0</td>\n",
       "    </tr>\n",
       "  </tbody>\n",
       "</table>\n",
       "</div>"
      ],
      "text/plain": [
       "        country         Region  Surface area (km2)  \\\n",
       "104  Luxembourg  WesternEurope              2586.0   \n",
       "\n",
       "     Population in thousands (2017)  GDP per capita (current US$)  \\\n",
       "104                           584.0                      100160.8   \n",
       "\n",
       "     Agricultural production index   \\\n",
       "104                            98.0   \n",
       "\n",
       "     International trade: Imports (million US$)  \n",
       "104                                     19124.0  "
      ]
     },
     "execution_count": 62,
     "metadata": {},
     "output_type": "execute_result"
    }
   ],
   "source": [
    "mean = df.groupby(\"Region\")[[\"GDP per capita (current US$)\"]].mean()\n",
    "gdp=df.sort_values('GDP per capita (current US$)',ascending=False)\n",
    "gdp.nlargest(1,'GDP per capita (current US$)')"
   ]
  },
  {
   "cell_type": "code",
   "execution_count": null,
   "id": "e461df56",
   "metadata": {},
   "outputs": [],
   "source": [
    "#International trade: Imports (million US$)"
   ]
  },
  {
   "cell_type": "code",
   "execution_count": 63,
   "id": "0504f4b3",
   "metadata": {},
   "outputs": [
    {
     "data": {
      "text/html": [
       "<div>\n",
       "<style scoped>\n",
       "    .dataframe tbody tr th:only-of-type {\n",
       "        vertical-align: middle;\n",
       "    }\n",
       "\n",
       "    .dataframe tbody tr th {\n",
       "        vertical-align: top;\n",
       "    }\n",
       "\n",
       "    .dataframe thead th {\n",
       "        text-align: right;\n",
       "    }\n",
       "</style>\n",
       "<table border=\"1\" class=\"dataframe\">\n",
       "  <thead>\n",
       "    <tr style=\"text-align: right;\">\n",
       "      <th></th>\n",
       "      <th>country</th>\n",
       "      <th>Region</th>\n",
       "      <th>Surface area (km2)</th>\n",
       "      <th>Population in thousands (2017)</th>\n",
       "      <th>GDP per capita (current US$)</th>\n",
       "      <th>Agricultural production index</th>\n",
       "      <th>International trade: Imports (million US$)</th>\n",
       "    </tr>\n",
       "  </thead>\n",
       "  <tbody>\n",
       "    <tr>\n",
       "      <th>187</th>\n",
       "      <td>United States of America</td>\n",
       "      <td>NorthernAmerica</td>\n",
       "      <td>9833517.0</td>\n",
       "      <td>324460.0</td>\n",
       "      <td>56053.8</td>\n",
       "      <td>111.0</td>\n",
       "      <td>2249661.0</td>\n",
       "    </tr>\n",
       "  </tbody>\n",
       "</table>\n",
       "</div>"
      ],
      "text/plain": [
       "                      country           Region  Surface area (km2)  \\\n",
       "187  United States of America  NorthernAmerica           9833517.0   \n",
       "\n",
       "     Population in thousands (2017)  GDP per capita (current US$)  \\\n",
       "187                        324460.0                       56053.8   \n",
       "\n",
       "     Agricultural production index   \\\n",
       "187                           111.0   \n",
       "\n",
       "     International trade: Imports (million US$)  \n",
       "187                                   2249661.0  "
      ]
     },
     "execution_count": 63,
     "metadata": {},
     "output_type": "execute_result"
    }
   ],
   "source": [
    "mean = df.groupby(\"Region\")[[\"International trade: Imports (million US$)\"]].mean()\n",
    "gdp=df.sort_values('International trade: Imports (million US$)',ascending=False)\n",
    "gdp.nlargest(1,'International trade: Imports (million US$)')"
   ]
  },
  {
   "cell_type": "markdown",
   "id": "a3ff193b",
   "metadata": {},
   "source": [
    "# Region having more consistent with respect to GDP per capita (current US$)\n"
   ]
  },
  {
   "cell_type": "code",
   "execution_count": 68,
   "id": "31f49130",
   "metadata": {},
   "outputs": [
    {
     "data": {
      "text/html": [
       "<div>\n",
       "<style scoped>\n",
       "    .dataframe tbody tr th:only-of-type {\n",
       "        vertical-align: middle;\n",
       "    }\n",
       "\n",
       "    .dataframe tbody tr th {\n",
       "        vertical-align: top;\n",
       "    }\n",
       "\n",
       "    .dataframe thead th {\n",
       "        text-align: right;\n",
       "    }\n",
       "</style>\n",
       "<table border=\"1\" class=\"dataframe\">\n",
       "  <thead>\n",
       "    <tr style=\"text-align: right;\">\n",
       "      <th></th>\n",
       "      <th>GDP per capita (current US$)</th>\n",
       "    </tr>\n",
       "    <tr>\n",
       "      <th>Region</th>\n",
       "      <th></th>\n",
       "    </tr>\n",
       "  </thead>\n",
       "  <tbody>\n",
       "    <tr>\n",
       "      <th>WesternAfrica</th>\n",
       "      <td>815.095399</td>\n",
       "    </tr>\n",
       "  </tbody>\n",
       "</table>\n",
       "</div>"
      ],
      "text/plain": [
       "               GDP per capita (current US$)\n",
       "Region                                     \n",
       "WesternAfrica                    815.095399"
      ]
     },
     "execution_count": 68,
     "metadata": {},
     "output_type": "execute_result"
    }
   ],
   "source": [
    "cons=df.groupby(\"Region\")[[\"GDP per capita (current US$)\"]].std()\n",
    "cons.nsmallest(1,\"GDP per capita (current US$)\")"
   ]
  },
  {
   "cell_type": "code",
   "execution_count": null,
   "id": "a9138a67",
   "metadata": {},
   "outputs": [],
   "source": []
  }
 ],
 "metadata": {
  "kernelspec": {
   "display_name": "Python 3 (ipykernel)",
   "language": "python",
   "name": "python3"
  },
  "language_info": {
   "codemirror_mode": {
    "name": "ipython",
    "version": 3
   },
   "file_extension": ".py",
   "mimetype": "text/x-python",
   "name": "python",
   "nbconvert_exporter": "python",
   "pygments_lexer": "ipython3",
   "version": "3.9.7"
  }
 },
 "nbformat": 4,
 "nbformat_minor": 5
}
